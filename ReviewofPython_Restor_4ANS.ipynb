{
  "nbformat": 4,
  "nbformat_minor": 0,
  "metadata": {
    "colab": {
      "provenance": [],
      "collapsed_sections": [],
      "include_colab_link": true
    },
    "kernelspec": {
      "name": "python3",
      "display_name": "Python 3"
    },
    "language_info": {
      "name": "python"
    }
  },
  "cells": [
    {
      "cell_type": "markdown",
      "metadata": {
        "id": "view-in-github",
        "colab_type": "text"
      },
      "source": [
        "<a href=\"https://colab.research.google.com/github/Jed-Restor/ELECTIVE2-MACHINE-LEARNING/blob/main/ReviewofPython_Restor_4ANS.ipynb\" target=\"_parent\"><img src=\"https://colab.research.google.com/assets/colab-badge.svg\" alt=\"Open In Colab\"/></a>"
      ]
    },
    {
      "cell_type": "markdown",
      "source": [
        "Jed Laurence D. Restor"
      ],
      "metadata": {
        "id": "WV-tDIDNX90m"
      }
    },
    {
      "cell_type": "markdown",
      "source": [
        "This is the notebook for Introduction to Machine Learning "
      ],
      "metadata": {
        "id": "nuLAY70LYKyo"
      }
    },
    {
      "cell_type": "markdown",
      "source": [
        "#Review of Python Programming"
      ],
      "metadata": {
        "id": "JzwoJaO4YbFa"
      }
    },
    {
      "cell_type": "markdown",
      "source": [
        "## Proper Naming Convention "
      ],
      "metadata": {
        "id": "2OSj5aeRYlqW"
      }
    },
    {
      "cell_type": "markdown",
      "source": [
        "You might think discussing this topic must be pointless or too simplistic but it is actually one of the most frequent mistakes that data scientists, professors, or researchers usually do. Naming variables and functions properly will bring clarity to understanding the code."
      ],
      "metadata": {
        "id": "ROR1QIBoaLlp"
      }
    },
    {
      "cell_type": "code",
      "source": [
        "import pandas as pd\n",
        "import numpy as np"
      ],
      "metadata": {
        "id": "k8FTRF0-aDA3"
      },
      "execution_count": 416,
      "outputs": []
    },
    {
      "cell_type": "code",
      "source": [
        "last_names = [\"Rosales\",\"Cruz\", \"Reyes\"]\n",
        "#ln , avoid creating ambiguity"
      ],
      "metadata": {
        "id": "wcpwpXMhaoQ_"
      },
      "execution_count": 417,
      "outputs": []
    },
    {
      "cell_type": "code",
      "source": [
        "last_names"
      ],
      "metadata": {
        "colab": {
          "base_uri": "https://localhost:8080/"
        },
        "id": "6ygSIRTIbNta",
        "outputId": "3bb668d6-e91c-4bad-9aaf-e3a2183e8844"
      },
      "execution_count": 418,
      "outputs": [
        {
          "output_type": "execute_result",
          "data": {
            "text/plain": [
              "['Rosales', 'Cruz', 'Reyes']"
            ]
          },
          "metadata": {},
          "execution_count": 418
        }
      ]
    },
    {
      "cell_type": "markdown",
      "source": [
        "##Practice Activity\n",
        "1. Create variable declarations for \n",
        "   - First Names\n",
        "   -Grades for Prelim\n",
        "   -Grades for Midterm\n",
        "   -Grades for Finals"
      ],
      "metadata": {
        "id": "alN4AtH8bb4b"
      }
    },
    {
      "cell_type": "code",
      "source": [
        "# CODE HERE \n",
        "FN = ['Don','Ian','Carl','Kevin','Sven']\n",
        "grades = {\n",
        "        'Prelim' : [70,80,90,85,90],\n",
        "        'Midterm' : [92,92,95,98,90],\n",
        "        'Finals' : [93,80,95,85,93]\n",
        "    }"
      ],
      "metadata": {
        "id": "2RCExqHGbUca"
      },
      "execution_count": 419,
      "outputs": []
    },
    {
      "cell_type": "code",
      "source": [
        "print(FN, grades)"
      ],
      "metadata": {
        "colab": {
          "base_uri": "https://localhost:8080/"
        },
        "id": "V3a5fr7XIdGW",
        "outputId": "c5e0700b-1fb1-4db1-f010-00262978d38a"
      },
      "execution_count": 420,
      "outputs": [
        {
          "output_type": "stream",
          "name": "stdout",
          "text": [
            "['Don', 'Ian', 'Carl', 'Kevin', 'Sven'] {'Prelim': [70, 80, 90, 85, 90], 'Midterm': [92, 92, 95, 98, 90], 'Finals': [93, 80, 95, 85, 93]}\n"
          ]
        }
      ]
    },
    {
      "cell_type": "markdown",
      "source": [
        "##Code Reusability"
      ],
      "metadata": {
        "id": "AR-JIDeRcKIV"
      }
    },
    {
      "cell_type": "markdown",
      "source": [
        "Just like in any writing we want to reduce redundancies in our content. Just like following the rules of brevity we also consider that in creating cleaner code. One way of applying brevity to code is code reusability wherein you refrain from creating code that you repeat in encoding. This is where the use of functions will be most used. Consider the following code below."
      ],
      "metadata": {
        "id": "bkh-O-xicOgI"
      }
    },
    {
      "cell_type": "code",
      "source": [
        "'''\n",
        "    CASE 2: Computing grades.\n",
        "\n",
        "    For this cell we are going to look into creating functions for the class.\n",
        "    This includes computing for their grades and some classroom management\n",
        "    routines.\n",
        "'''\n",
        "### Consider this procedural programming script\n",
        "gs_1 = [89.4, 78.2, 88.0, 28.5, 67.3]\n",
        "# Get average grades of the class\n",
        "class_g = 0\n",
        "for g in gs_1:\n",
        "  class_g += g\n",
        "cmean = class_g/len(gs_1)\n",
        "print (cmean)"
      ],
      "metadata": {
        "colab": {
          "base_uri": "https://localhost:8080/"
        },
        "id": "NLnOlMKlb2b1",
        "outputId": "8f9c0a65-d4da-4a9f-d7bf-8799a30682b0"
      },
      "execution_count": 421,
      "outputs": [
        {
          "output_type": "stream",
          "name": "stdout",
          "text": [
            "70.28\n"
          ]
        }
      ]
    },
    {
      "cell_type": "code",
      "source": [
        "# Code here for grades  (89,90,73,45)\n",
        "G = [89,90,73,45]\n",
        "\n",
        "def mean(Grades):\n",
        "  sum = 0\n",
        "  for total in Grades:\n",
        "    sum = sum+total\n",
        "  return sum/len(Grades)\n",
        "print(mean(G))"
      ],
      "metadata": {
        "id": "xIfmg6nGc-4a",
        "colab": {
          "base_uri": "https://localhost:8080/"
        },
        "outputId": "090316e8-f378-4c13-d903-f39c097022cf"
      },
      "execution_count": 422,
      "outputs": [
        {
          "output_type": "stream",
          "name": "stdout",
          "text": [
            "74.25\n"
          ]
        }
      ]
    },
    {
      "cell_type": "code",
      "source": [
        "### That works but if you keep doing that for production, it would just look\n",
        "### like spaghetti code. Instead, if you are repeating code, consider creating\n",
        "### a function.\n",
        "\n",
        "def average(grades):\n",
        "  grades_class = 0\n",
        "  for g in grades:\n",
        "    grades_class += g\n",
        "  avg = grades_class/len(grades)\n",
        "  return avg\n",
        "print(average(G))"
      ],
      "metadata": {
        "id": "I8enZymbdNGf",
        "colab": {
          "base_uri": "https://localhost:8080/"
        },
        "outputId": "aec1b31e-f409-4c52-d273-a0e1cd12e8ad"
      },
      "execution_count": 423,
      "outputs": [
        {
          "output_type": "stream",
          "name": "stdout",
          "text": [
            "74.25\n"
          ]
        }
      ]
    },
    {
      "cell_type": "code",
      "source": [
        "## The code above would be reusable but it is not easy to read. We need to \n",
        "### enforce the code refactoring for renaming not just the variables but also\n",
        "### the functions we are creating. So if we would refactor the 'average' \n",
        "### Function earlier it could be:\n",
        "\n",
        "def get_class_ave(arr):\n",
        "  class_grades = 0\n",
        "  for grade in arr:\n",
        "    class_grades += grade\n",
        "  class_avg = class_grades/len(arr)\n",
        "  return class_avg\n",
        "print(get_class_ave(G))"
      ],
      "metadata": {
        "id": "NHEnXwXBdkt-",
        "colab": {
          "base_uri": "https://localhost:8080/"
        },
        "outputId": "28800a72-530d-4eff-bd36-7254105c5201"
      },
      "execution_count": 424,
      "outputs": [
        {
          "output_type": "stream",
          "name": "stdout",
          "text": [
            "74.25\n"
          ]
        }
      ]
    },
    {
      "cell_type": "markdown",
      "source": [
        "##Getting Class Statistics"
      ],
      "metadata": {
        "id": "BEwCQHwCdqkZ"
      }
    },
    {
      "cell_type": "markdown",
      "source": [
        "Create a function named get_grades() for computing the semestral grade of each student:\n",
        "\n",
        "inputs: DataFrame of a class grade sheet.\n",
        "\n",
        "outpus: DataFrame showing:\n",
        "    The prelim, midterms, and finals grades of each student\n",
        "    The semestral grade of each student\n",
        "\n",
        "Create a function named get_class_stats().\n",
        "\n",
        "inputs: DataFrame from get_grades().\n",
        "\n",
        "outpus: DataFrame showing:\n",
        "    The lowest and highest prelim, midterm, finals, and semestral grades\n",
        "    the mean, median, mode, and standard deviation of the grades"
      ],
      "metadata": {
        "id": "LJ1UECSWd43_"
      }
    },
    {
      "cell_type": "code",
      "source": [
        "## Code here##\n",
        "\n",
        "def get_grades():\n",
        "  y = FN\n",
        "  df = pd.DataFrame(grades, index=y)\n",
        "  print(df)\n",
        "\n",
        "def get_class_stats():\n",
        "  y = FN\n",
        "  df = pd.DataFrame(grades, index = y)\n",
        "  \n",
        "  sem = df.mean(axis=1)\n",
        "  min = df.min(axis=0, numeric_only=True)\n",
        "  max = df.max(axis=0, numeric_only=True)\n",
        "  mean = df.mean(axis=0, numeric_only=True)\n",
        "  median = df.median(axis=0, numeric_only=True)\n",
        "  mode = df.mode(axis=0, numeric_only=True)\n",
        "  std = df.std(axis=0, numeric_only=True)\n",
        "\n",
        "  print('\\n SEMESTRAL GRADE:')\n",
        "  print(sem)\n",
        "  print('\\n MIN:')\n",
        "  print(min)\n",
        "  print('\\n MAX')\n",
        "  print(max)\n",
        "  print('\\n MEAN')\n",
        "  print(mean)\n",
        "  print('\\n MEDIAN')\n",
        "  print(median)\n",
        "  print('\\n MODE')\n",
        "  print(mode)\n",
        "  print('\\n STANDARD DEVIATION')\n",
        "  print(std)"
      ],
      "metadata": {
        "id": "DIfZj6DEd2k4"
      },
      "execution_count": 425,
      "outputs": []
    },
    {
      "cell_type": "code",
      "source": [
        "get_grades()\n",
        "get_class_stats()\n",
        "\n",
        "\n"
      ],
      "metadata": {
        "colab": {
          "base_uri": "https://localhost:8080/"
        },
        "id": "lc8if7N0kjxH",
        "outputId": "36b22b81-bf37-484e-ecdc-dc764df18c2c"
      },
      "execution_count": 426,
      "outputs": [
        {
          "output_type": "stream",
          "name": "stdout",
          "text": [
            "       Prelim  Midterm  Finals\n",
            "Don        70       92      93\n",
            "Ian        80       92      80\n",
            "Carl       90       95      95\n",
            "Kevin      85       98      85\n",
            "Sven       90       90      93\n",
            "\n",
            " SEMESTRAL GRADE:\n",
            "Don      85.000000\n",
            "Ian      84.000000\n",
            "Carl     93.333333\n",
            "Kevin    89.333333\n",
            "Sven     91.000000\n",
            "dtype: float64\n",
            "\n",
            " MIN:\n",
            "Prelim     70\n",
            "Midterm    90\n",
            "Finals     80\n",
            "dtype: int64\n",
            "\n",
            " MAX\n",
            "Prelim     90\n",
            "Midterm    98\n",
            "Finals     95\n",
            "dtype: int64\n",
            "\n",
            " MEAN\n",
            "Prelim     83.0\n",
            "Midterm    93.4\n",
            "Finals     89.2\n",
            "dtype: float64\n",
            "\n",
            " MEDIAN\n",
            "Prelim     85.0\n",
            "Midterm    92.0\n",
            "Finals     93.0\n",
            "dtype: float64\n",
            "\n",
            " MODE\n",
            "   Prelim  Midterm  Finals\n",
            "0      90       92      93\n",
            "\n",
            " STANDARD DEVIATION\n",
            "Prelim     8.366600\n",
            "Midterm    3.130495\n",
            "Finals     6.418723\n",
            "dtype: float64\n"
          ]
        }
      ]
    },
    {
      "cell_type": "markdown",
      "source": [
        "##Code Optimization\n",
        "When we consider your code to be part of production or for customer delivery we must consider that they are not laggy nor too space-consuming for devices. This is a common practice in data science and machine learning wherein training algorithms take up resources from computers or considering the space a model consumes at your workspace or your customer’s device."
      ],
      "metadata": {
        "id": "yPp4xl-beMIB"
      }
    },
    {
      "cell_type": "markdown",
      "source": [
        "Space Complexity\n",
        "\n",
        "This would specifically refer to your choice of data structures. This is a job for reviewing data structures and algorithms for space complexity. Although in Python for AI we are looking into more data structures like matrices and data frames."
      ],
      "metadata": {
        "id": "CctsMtzIeax_"
      }
    },
    {
      "cell_type": "code",
      "source": [
        "## The following code will optimize how to efficiently store data into memory\n",
        "enrollees_2016_2020 = ['15022', '18302', '8845', '9203', '10035']\n",
        "enrollees_2016_2020 = [15022, 18302, 8845, 9203, 10035]"
      ],
      "metadata": {
        "id": "44ygYd6UeFOK"
      },
      "execution_count": 427,
      "outputs": []
    },
    {
      "cell_type": "code",
      "source": [
        "img1 =[[125.453, 254],[64.21,84.53]]\n",
        "img1\n"
      ],
      "metadata": {
        "colab": {
          "base_uri": "https://localhost:8080/"
        },
        "id": "B9I_1oWCewpr",
        "outputId": "ce0065a7-2b51-4091-a735-c5f1c57aeaa6"
      },
      "execution_count": 428,
      "outputs": [
        {
          "output_type": "execute_result",
          "data": {
            "text/plain": [
              "[[125.453, 254], [64.21, 84.53]]"
            ]
          },
          "metadata": {},
          "execution_count": 428
        }
      ]
    },
    {
      "cell_type": "code",
      "source": [
        "import numpy as np\n",
        "img1_vector= np.array(img1)\n",
        "img1_vector"
      ],
      "metadata": {
        "colab": {
          "base_uri": "https://localhost:8080/"
        },
        "id": "BZLeQRJ8e8ow",
        "outputId": "85f5304d-5e54-430f-9eba-f8a69b1f969a"
      },
      "execution_count": 429,
      "outputs": [
        {
          "output_type": "execute_result",
          "data": {
            "text/plain": [
              "array([[125.453, 254.   ],\n",
              "       [ 64.21 ,  84.53 ]])"
            ]
          },
          "metadata": {},
          "execution_count": 429
        }
      ]
    },
    {
      "cell_type": "markdown",
      "source": [
        "##Practice Activity\n",
        "code wil try to optimize getting unique elements from the given\n",
        "list of class codes\n",
        "\n",
        "curr_2018_courses = ['220', '270', '318', '450', '101', '768', '223L', '223',\n",
        "                     '727', '418', '673', '672', '450', '124', '771', '654',\n",
        "                     '231', '768', '768', '224', '654', '673']\n",
        "\n",
        "### print an array that shows only the unique elements\n",
        "\n"
      ],
      "metadata": {
        "id": "BsPgIjVvfuAM"
      }
    },
    {
      "cell_type": "code",
      "source": [
        "## CODE HERE ##\n",
        "curr_2018_courses = ['220', '270', '318', '450', '101', '768', '223L', '223', '727', '418', '673', '672', '450', '124', '771', '654', '231', '768', '768', '224', '654', '673']\n",
        "n = len(curr_2018_courses)\n",
        "\n",
        "def printDistinct(curr_2018_courses, n):\n",
        " \n",
        "    for i in range(0, n):\n",
        " \n",
        "        d = 0\n",
        "        for j in range(0, i):\n",
        "            if (curr_2018_courses[i] == curr_2018_courses[j]):\n",
        "                d = 1\n",
        "                break\n",
        "\n",
        "        if (d == 0):\n",
        "            print(curr_2018_courses[i])\n",
        "  \n",
        "printDistinct(curr_2018_courses, n)"
      ],
      "metadata": {
        "id": "RdpdlgzzfRbX",
        "colab": {
          "base_uri": "https://localhost:8080/"
        },
        "outputId": "cb888c63-36e7-466a-e350-4161ea13d838"
      },
      "execution_count": 431,
      "outputs": [
        {
          "output_type": "stream",
          "name": "stdout",
          "text": [
            "220\n",
            "270\n",
            "318\n",
            "450\n",
            "101\n",
            "768\n",
            "223L\n",
            "223\n",
            "727\n",
            "418\n",
            "673\n",
            "672\n",
            "124\n",
            "771\n",
            "654\n",
            "231\n",
            "224\n"
          ]
        }
      ]
    }
  ]
}